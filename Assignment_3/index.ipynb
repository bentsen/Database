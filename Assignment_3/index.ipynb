{
 "cells": [
  {
   "cell_type": "code",
   "outputs": [],
   "source": [
    "import pandas as pd\n",
    "from neo4j import GraphDatabase"
   ],
   "metadata": {
    "collapsed": false,
    "ExecuteTime": {
     "end_time": "2024-04-27T18:39:42.961849400Z",
     "start_time": "2024-04-27T18:39:42.954544600Z"
    }
   },
   "id": "b7893355c4a57b68",
   "execution_count": 214
  },
  {
   "cell_type": "code",
   "outputs": [],
   "source": [
    "# Database Connection\n",
    "\n",
    "URI = \"bolt://localhost:7687\"\n",
    "AUTH = (\"neo4j\", \"12345678\")\n",
    "\n",
    "driver = GraphDatabase.driver(URI, auth=AUTH)\n",
    "driver.verify_connectivity()"
   ],
   "metadata": {
    "collapsed": true,
    "ExecuteTime": {
     "end_time": "2024-04-27T18:39:45.028432400Z",
     "start_time": "2024-04-27T18:39:42.964841500Z"
    }
   },
   "id": "initial_id",
   "execution_count": 215
  },
  {
   "cell_type": "code",
   "outputs": [],
   "source": [
    "# Helper Functions\n",
    "\n",
    "def write_query(query, params={}):\n",
    "    with driver.session(database=\"neo4j\") as session:\n",
    "        session.execute_write(lambda tx: tx.run(query, params))\n",
    "\n",
    "def read_query(query, params={}):\n",
    "    with driver.session(database=\"neo4j\") as session:\n",
    "        result = session.run(query, params)\n",
    "        return [list(record.values()) for record in result]"
   ],
   "metadata": {
    "collapsed": false,
    "ExecuteTime": {
     "end_time": "2024-04-27T18:39:45.034748800Z",
     "start_time": "2024-04-27T18:39:45.030451200Z"
    }
   },
   "id": "fe011c67ebbe32a5",
   "execution_count": 216
  },
  {
   "cell_type": "code",
   "outputs": [],
   "source": [
    "# Data Mergeing\n",
    "\n",
    "dataset_2016_targets = pd.read_csv('./data/2016_-_Cities_Emissions_Reduction_Targets_20240207.csv')\n",
    "dataset_2016_ghg = pd.read_csv('./data/2016_-_Citywide_GHG_Emissions_20240207.csv')\n",
    "dataset_2017_community = pd.read_csv('./data/2017_-_Cities_Community_Wide_Emissions.csv')\n",
    "dataset_2017_targets = pd.read_csv('./data/2017_-_Cities_Emissions_Reduction_Targets_20240207.csv')\n",
    "dataset_2023_risk = pd.read_csv('./data/2023_Cities_Climate_Risk_and_Vulnerability_Assessments_20240207.csv')\n",
    "\n",
    "def prepare_dataset(dataset, year, col_mappings):\n",
    "    dataset = dataset.rename(columns=col_mappings)\n",
    "    dataset['year'] = year\n",
    "    return dataset\n",
    "\n",
    "col_mappings_2016_targets = {\n",
    "    'City Name': 'city',\n",
    "    'Country': 'country',\n",
    "    'Baseline emissions (metric tonnes CO2e)': 'emission',\n",
    "    'Target date': 'emission_target',\n",
    "    'Baseline year':'baseline_year',\n",
    "    'Percentage reduction target': 'target',\n",
    "    'Sector':'sector'\n",
    "}\n",
    "col_mappings_2016_ghg = {\n",
    "    'City Name': 'city',\n",
    "    'Country': 'country',\n",
    "    'Total CO2 emissions (metric tonnes CO2e)': 'emission',\n",
    "    'City GDP': 'city_gdp',\n",
    "    'Current Population': 'city_population',\n",
    "    'Increase/Decrease from last year':'year_status',\n",
    "    'Reporting Year':'year'\n",
    "}\n",
    "\n",
    "\n",
    "col_mappings_2017_community = {\n",
    "    'City': 'city',\n",
    "    'Country': 'country',\n",
    "    'Total emissions (metric tonnes CO2e)': 'emission',\n",
    "    'GDP': 'city_gdp',\n",
    "    'Population': 'city_population',\n",
    "    'Increase/Decrease from last year':'year_status',\n",
    "    'Reporting Year':'year'\n",
    "}\n",
    "\n",
    "col_mappings_2017_targets = {\n",
    "    'City': 'city',\n",
    "    'Country': 'country',\n",
    "    'Baseline emissions (metric tonnes CO2e)': 'emission',\n",
    "    'Target date': 'emission_target',\n",
    "    'Baseline year':'baseline_year',\n",
    "    'Percentage reduction target': 'target',\n",
    "    'Sector':'sector'\n",
    "}\n",
    "\n",
    "col_mappings_2023_risk = {\n",
    "    'City': 'city',\n",
    "    'Country/Area': 'country',\n",
    "    'Year of publication or approval': 'year',\n",
    "    'Factors considered in assessment': 'factors',\n",
    "    'Population': 'city_population',\n",
    "}\n",
    "\n",
    "dataset_2016_targets_prepared = prepare_dataset(dataset_2016_targets, 2016, col_mappings_2016_targets)\n",
    "dataset_2016_ghg_prepared = prepare_dataset(dataset_2016_ghg, 2016, col_mappings_2016_ghg)\n",
    "dataset_2017_community_prepared = prepare_dataset(dataset_2017_community, 2017, col_mappings_2017_community)\n",
    "dataset_2017_targets_prepared = prepare_dataset(dataset_2017_targets, 2017, col_mappings_2017_targets)\n",
    "dataset_2023_risk_prepared = prepare_dataset(dataset_2023_risk, 2023, col_mappings_2023_risk)\n",
    "\n",
    "merged_dataset = pd.concat([\n",
    "    dataset_2016_targets_prepared,\n",
    "    dataset_2016_ghg_prepared,\n",
    "    dataset_2017_community_prepared,\n",
    "    dataset_2017_targets_prepared,\n",
    "    dataset_2023_risk_prepared\n",
    "])\n",
    "\n",
    "merged_dataset = merged_dataset.drop_duplicates(subset=['city', 'year'], keep='last')\n",
    "\n",
    "final_selected_columns_dataset = merged_dataset[[\n",
    "    'city', 'city_gdp', 'city_population', 'country', 'emission', 'emission_target', 'target', 'baseline_year', 'year', 'year_status', 'factors', 'sector'\n",
    "]]\n",
    "\n",
    "final_selected_columns_dataset = final_selected_columns_dataset.fillna(value=\"None\")"
   ],
   "metadata": {
    "collapsed": false,
    "ExecuteTime": {
     "end_time": "2024-04-27T18:39:45.086591700Z",
     "start_time": "2024-04-27T18:39:45.037269800Z"
    }
   },
   "id": "d97c430459a6d75c",
   "execution_count": 217
  },
  {
   "cell_type": "code",
   "outputs": [],
   "source": [
    "# Data Ingestion\n",
    "\n",
    "create_city_query = \"\"\"\n",
    "MERGE (city:City {name: $city, year: $year})\n",
    "ON CREATE SET\n",
    "  city.population = $population,\n",
    "  city.gdp = $gdp,\n",
    "  city.emission = $emission\n",
    "MERGE (country:Country {name: $country})\n",
    "MERGE (city)-[:LOCATED_IN]->(country)\n",
    "\"\"\"\n",
    "\n",
    "for index, row in final_selected_columns_dataset.iterrows():\n",
    "    write_query(create_city_query, params={\n",
    "        'city': row['city'],\n",
    "        'year': row['year'],\n",
    "        'population': row['city_population'],\n",
    "        'gdp': row['city_gdp'],\n",
    "        'emission': row['emission'],\n",
    "        'country': row['country']\n",
    "    })"
   ],
   "metadata": {
    "collapsed": false,
    "ExecuteTime": {
     "end_time": "2024-04-27T18:39:46.596120100Z",
     "start_time": "2024-04-27T18:39:45.089589100Z"
    }
   },
   "id": "e93aae8d2fa70227",
   "execution_count": 218
  },
  {
   "cell_type": "code",
   "outputs": [
    {
     "name": "stdout",
     "output_type": "stream",
     "text": [
      "[['Ville de Montreal', 1886481.0, 120118000000.0], ['Greater Manchester', 2762000.0, 87773000000.0], ['City of Reno', 236995.0, 10000000000.0], ['City of Minneapolis', 407207.0, 235700000000.0], ['City of London, ON', 375000.0, 15400000000.0]]\n"
     ]
    }
   ],
   "source": [
    "# Querying the Database\n",
    "\n",
    "query = \"\"\"\n",
    "MATCH (city:City)\n",
    "RETURN city.name AS Name, city.population AS Population, city.gdp AS GDP\n",
    "LIMIT 5\n",
    "\"\"\"\n",
    "\n",
    "response = read_query(query)\n",
    "print(response)"
   ],
   "metadata": {
    "collapsed": false,
    "ExecuteTime": {
     "end_time": "2024-04-27T18:39:46.604752700Z",
     "start_time": "2024-04-27T18:39:46.597674700Z"
    }
   },
   "id": "145792686f04a46a",
   "execution_count": 219
  },
  {
   "cell_type": "code",
   "outputs": [],
   "source": [
    "# Close the connection\n",
    "\n",
    "driver.close()"
   ],
   "metadata": {
    "collapsed": false,
    "ExecuteTime": {
     "end_time": "2024-04-27T18:39:46.604752700Z",
     "start_time": "2024-04-27T18:39:46.602194900Z"
    }
   },
   "id": "84ad6eb7aa386974",
   "execution_count": 220
  }
 ],
 "metadata": {
  "kernelspec": {
   "display_name": "Python 3",
   "language": "python",
   "name": "python3"
  },
  "language_info": {
   "codemirror_mode": {
    "name": "ipython",
    "version": 2
   },
   "file_extension": ".py",
   "mimetype": "text/x-python",
   "name": "python",
   "nbconvert_exporter": "python",
   "pygments_lexer": "ipython2",
   "version": "2.7.6"
  }
 },
 "nbformat": 4,
 "nbformat_minor": 5
}
